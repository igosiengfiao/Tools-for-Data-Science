{
 "cells": [
  {
   "cell_type": "markdown",
   "id": "c17128b6-e6dd-4b2e-8f4a-52eb20c4c1ac",
   "metadata": {},
   "source": [
    "## Data Science Tools and Ecosystem"
   ]
  },
  {
   "cell_type": "markdown",
   "id": "ec7a03a6-3a3f-4278-8f1c-b0dfea35ca05",
   "metadata": {},
   "source": [
    "In this notebook, Data Science Tools and Ecosystem are summarized."
   ]
  },
  {
   "cell_type": "markdown",
   "id": "a71cc404-be8a-4bdb-8978-91747d4b56ea",
   "metadata": {},
   "source": [
    "**Objectives:**\n",
    "- Learn popular languages used by data scientists\n",
    "- Learn commonly used libraries used by data scientists\n",
    "- Learn what are commonly used data science tools\n",
    "- Learn how basic arithmetic functions"
   ]
  },
  {
   "cell_type": "markdown",
   "id": "6a315c7c-237d-4d4c-9aa8-7e7c26f28d48",
   "metadata": {},
   "source": [
    "Some of the popular languages that Data Scientists use are:\n",
    "1. Python\n",
    "2. R\n",
    "3. Julia"
   ]
  },
  {
   "cell_type": "markdown",
   "id": "54d56464-ec0e-4f3f-8344-4f2cf3a34043",
   "metadata": {},
   "source": [
    "Some of the commonly used libraries used by Data Scientists include:\n",
    "1. Pandas\n",
    "2. Numpy\n",
    "3. Matplotlib"
   ]
  },
  {
   "cell_type": "markdown",
   "id": "b968182c-c83d-4813-8936-3bb8366365a8",
   "metadata": {},
   "source": [
    "|Data Science Tools|\n",
    "| --- |\n",
    "| Apache Spark |\n",
    "| MySQL |\n",
    "| MongoDB |"
   ]
  },
  {
   "cell_type": "markdown",
   "id": "c8eff57c-10fa-41bb-92e2-239eea89acee",
   "metadata": {},
   "source": [
    "### Below are a few examples of evaluating arithmetic expressions in Python"
   ]
  },
  {
   "cell_type": "code",
   "execution_count": 14,
   "id": "0d1af66b-3e3a-4358-91aa-7eef6c18bfb4",
   "metadata": {},
   "outputs": [
    {
     "data": {
      "text/plain": [
       "17"
      ]
     },
     "execution_count": 14,
     "metadata": {},
     "output_type": "execute_result"
    }
   ],
   "source": [
    "#This a simple arithmetic expression to mutiply then add integers\n",
    "(3*4)+5"
   ]
  },
  {
   "cell_type": "code",
   "execution_count": 18,
   "id": "82e0414e-2748-4977-ad09-668e2bc6fd8a",
   "metadata": {},
   "outputs": [
    {
     "data": {
      "text/plain": [
       "3.3333333333333335"
      ]
     },
     "execution_count": 18,
     "metadata": {},
     "output_type": "execute_result"
    }
   ],
   "source": [
    "#This will convert 200 minutes to hours by diving by 60\n",
    "200/60"
   ]
  },
  {
   "cell_type": "markdown",
   "id": "cbc97163-980e-4647-a024-e3ac519707c4",
   "metadata": {},
   "source": [
    "## Author\n",
    "Isaiah Gosiengfiao"
   ]
  }
 ],
 "metadata": {
  "kernelspec": {
   "display_name": "Python 3 (ipykernel)",
   "language": "python",
   "name": "python3"
  },
  "language_info": {
   "codemirror_mode": {
    "name": "ipython",
    "version": 3
   },
   "file_extension": ".py",
   "mimetype": "text/x-python",
   "name": "python",
   "nbconvert_exporter": "python",
   "pygments_lexer": "ipython3",
   "version": "3.12.4"
  }
 },
 "nbformat": 4,
 "nbformat_minor": 5
}
